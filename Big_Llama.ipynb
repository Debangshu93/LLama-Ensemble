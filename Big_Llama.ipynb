{
  "nbformat": 4,
  "nbformat_minor": 0,
  "metadata": {
    "colab": {
      "provenance": [],
      "authorship_tag": "ABX9TyNDXE1H0iaRoNirM+r87raV",
      "include_colab_link": true
    },
    "kernelspec": {
      "name": "python3",
      "display_name": "Python 3"
    },
    "language_info": {
      "name": "python"
    }
  },
  "cells": [
    {
      "cell_type": "markdown",
      "metadata": {
        "id": "view-in-github",
        "colab_type": "text"
      },
      "source": [
        "<a href=\"https://colab.research.google.com/github/Debangshu93/LLama-Ensemble/blob/main/Big_Llama.ipynb\" target=\"_parent\"><img src=\"https://colab.research.google.com/assets/colab-badge.svg\" alt=\"Open In Colab\"/></a>"
      ]
    },
    {
      "cell_type": "code",
      "execution_count": null,
      "metadata": {
        "id": "MDhUjqTrqFJN"
      },
      "outputs": [],
      "source": [
        "import torch\n",
        "from torch import nn\n",
        "from torch.nn import functional as F\n",
        "import numpy as np\n",
        "import math\n"
      ]
    },
    {
      "cell_type": "code",
      "source": [
        "class LoraLayer(nn.Module):\n",
        "  def __init__(self, features_in, features_out, name = \"None\", rank = 1, alpha = 1):\n",
        "    super().__init__()\n",
        "\n",
        "    self.lora_A = nn.Parameter(torch.zeros((rank, features_out)))\n",
        "    self.lora_B = nn.Parameter(torch.zeros((features_in, rank)))\n",
        "    nn.init.normal_(self.lora_A, mean = 0, std = 1)\n",
        "    self.name = name\n",
        "\n",
        "    self.scale = alpha/rank\n",
        "    self.enabled = True\n",
        "\n",
        "  def forward(self, original_weights):\n",
        "    if self.enabled:\n",
        "      return original_weights + torch.matmul(self.lora_B, self.lora_A).view(original_weights.shape)*self.scale\n",
        "    else:\n",
        "      return original_weights"
      ],
      "metadata": {
        "id": "Nv3rEN_1qODJ"
      },
      "execution_count": null,
      "outputs": []
    },
    {
      "cell_type": "code",
      "source": [
        "class Ensemble(nn.Module):\n",
        "  def __init__(self, features_in, features_out, num_ensebles=2):\n",
        "    super().__init__()\n",
        "\n",
        "    self.adapter_1 = LoraLayer(features_in, features_out, \"adapter_1\")\n",
        "    self.adapter_2 = LoraLayer(features_in, features_out, \"adapter_2\")\n",
        "    self.adapter_3 = LoraLayer(features_in, features_out, \"adapter_3\")\n",
        "\n",
        "  def forward(self, original_weights):\n",
        "    adapter_1_out = self.adapter_1(original_weights).unsqueeze(2)\n",
        "    adapter_2_out = self.adapter_2(original_weights).unsqueeze(2)\n",
        "    adapter_3_out = self.adapter_3(original_weights).unsqueeze(2)\n",
        "    return torch.concatenate([adapter_1_out, adapter_2_out, adapter_3_out], dim = 2) #a three dimensional tensor"
      ],
      "metadata": {
        "id": "8cnzaN7xq3aF"
      },
      "execution_count": null,
      "outputs": []
    },
    {
      "cell_type": "code",
      "source": [
        "class Linear(nn.Module):\n",
        "  def __init__(self, features_in, features_out, bias = True):\n",
        "    super().__init__()\n",
        "\n",
        "    self.weight = nn.Parameter((torch.zeros(features_out, features_in), device = 'meta'))\n",
        "    self.is_bias = bias\n",
        "    if self.is_bias :\n",
        "      self.bias = nn.Parameter(torch.zeros(features_out))\n",
        "      nn.init.normal_(self.bias, mean = 0, std = 1)\n",
        "    nn.init.normal_(self.weight, mean = 0, std = 1)\n",
        "    self.adapters =  Ensemble(features_in, features_out)\n",
        "\n",
        "    #self.adapter = LoraLayer(features_in, features_out)\n",
        "\n",
        "  def forward(self, x): #input is a 4d tensor [batch, 1, feat_in, feat_out]\n",
        "    self.parallel_weights = self.adapters(self.weight)\n",
        "    if self.is_bias :\n",
        "      return torch.matmul(x, self.parallel_weights.T) + self.bias\n",
        "    else:\n",
        "      return torch.matmul(x, self.parallel_weights.T)  #output is a 4d tensor [batch, d, feat_in, out_dim]"
      ],
      "metadata": {
        "id": "B4Y0D2mgrAEX"
      },
      "execution_count": null,
      "outputs": []
    },
    {
      "cell_type": "code",
      "source": [
        "config = {\n",
        "    \"vocab_size\": 65,\n",
        "    'batch_size': 4,\n",
        "    'context_window': 8,\n",
        "    'd_model': 512,\n",
        "    'n_heads' : 16,\n",
        "    'ensembles' : 3,\n",
        "    'multiple_of' : 48,\n",
        "    'n_layers' : 16\n",
        "}"
      ],
      "metadata": {
        "id": "pzNiw3IrrEUZ"
      },
      "execution_count": null,
      "outputs": []
    },
    {
      "cell_type": "markdown",
      "source": [
        "Check RMS-Norm Functionality"
      ],
      "metadata": {
        "id": "mZFoeaZmFMZE"
      }
    },
    {
      "cell_type": "code",
      "source": [
        "class RMSNorm(nn.Module):\n",
        "    def __init__(self, dim: int, eps: float = 1e-6):\n",
        "        super().__init__()\n",
        "        self.eps = eps\n",
        "        self.weight = nn.Parameter(torch.ones(dim))\n",
        "\n",
        "    def _norm(self, x: torch.Tensor):\n",
        "        return x * torch.rsqrt(x.pow(2).mean(-1, keepdim=True) + self.eps)\n",
        "\n",
        "    def forward(self, x: torch.Tensor):\n",
        "        return self.weight * self._norm(x.float()).type_as(x)\n",
        "\n",
        "\n",
        "layer = RMSNorm(config[\"d_model\"])\n"
      ],
      "metadata": {
        "id": "KyvOK3u7s-HV"
      },
      "execution_count": null,
      "outputs": []
    },
    {
      "cell_type": "code",
      "source": [
        "batch = torch.rand(config[\"batch_size\"], config[\"context_window\"], config[\"d_model\"])"
      ],
      "metadata": {
        "id": "0dZBA78ItMGi"
      },
      "execution_count": null,
      "outputs": []
    },
    {
      "cell_type": "code",
      "source": [
        "expected_out = layer(batch)\n",
        "expected_out = expected_out.unsqueeze(1)\n",
        "expected_out = torch.concatenate([expected_out, expected_out, expected_out], dim = 1)"
      ],
      "metadata": {
        "id": "hny0p_3LtOZR"
      },
      "execution_count": null,
      "outputs": []
    },
    {
      "cell_type": "code",
      "source": [
        "adapter_batch = batch.unsqueeze(1)\n",
        "adapter_batch = torch.concatenate([adapter_batch, adapter_batch, adapter_batch], dim = 1)"
      ],
      "metadata": {
        "id": "7O5fyU2cyOfV"
      },
      "execution_count": null,
      "outputs": []
    },
    {
      "cell_type": "code",
      "source": [
        "output = layer(adapter_batch)"
      ],
      "metadata": {
        "id": "-Ir0pCO5ykkC"
      },
      "execution_count": null,
      "outputs": []
    },
    {
      "cell_type": "code",
      "source": [
        "print(torch.all(torch.round(expected_out, decimals = 8) == torch.round(output, decimals = 8)))\n"
      ],
      "metadata": {
        "colab": {
          "base_uri": "https://localhost:8080/"
        },
        "id": "x2-lc30CynV9",
        "outputId": "147fc255-8cba-4f19-bf01-62c5f9c91d1d"
      },
      "execution_count": null,
      "outputs": [
        {
          "output_type": "stream",
          "name": "stdout",
          "text": [
            "tensor(True)\n"
          ]
        }
      ]
    },
    {
      "cell_type": "markdown",
      "source": [
        "Rotatory Positional Embedding Attention Head"
      ],
      "metadata": {
        "id": "ebyhRwBoFaqe"
      }
    },
    {
      "cell_type": "markdown",
      "source": [
        "Requires no change"
      ],
      "metadata": {
        "id": "sKMAtYJWFjrF"
      }
    },
    {
      "cell_type": "code",
      "source": [
        "def precompute_theta_pos_frequencies(head_dim: int, seq_len: int, theta: float = 10000.0):\n",
        "    assert head_dim % 2 == 0, \"Dimension must be divisible by 2\"\n",
        "    theta_numerator = torch.arange(0, head_dim, 2).float()\n",
        "    theta = 1.0 / (theta ** (theta_numerator / head_dim))\n",
        "    m = torch.arange(seq_len)\n",
        "    freqs = torch.outer(m, theta).float()\n",
        "    freqs_complex = torch.polar(torch.ones_like(freqs), freqs)\n",
        "    return freqs_complex"
      ],
      "metadata": {
        "id": "B_JABaCb2YUn"
      },
      "execution_count": null,
      "outputs": []
    },
    {
      "cell_type": "markdown",
      "source": [
        "Compute the freqs_complex to be used for testing rotatory embedding"
      ],
      "metadata": {
        "id": "PZ3m7Qf0FnVg"
      }
    },
    {
      "cell_type": "code",
      "source": [
        "freqs_complex = precompute_theta_pos_frequencies(config[\"d_model\"] // config[\"n_heads\"], config[\"context_window\"] * 2)\n",
        "freqs_complex = freqs_complex[0:config['context_window']]"
      ],
      "metadata": {
        "id": "PEvETYTg3syE"
      },
      "execution_count": null,
      "outputs": []
    },
    {
      "cell_type": "markdown",
      "source": [
        "Test the functinality of applying rotatory embeddings"
      ],
      "metadata": {
        "id": "xJXHr_hRGCXA"
      }
    },
    {
      "cell_type": "code",
      "source": [
        "def apply_rotary_embeddings(x: torch.Tensor, freqs_complex: torch.Tensor):\n",
        "    x_complex = torch.view_as_complex(x.float().reshape(*x.shape[:-1], -1, 2))\n",
        "    freqs_complex = freqs_complex.unsqueeze(0).unsqueeze(1).unsqueeze(3)\n",
        "    x_rotated = x_complex * freqs_complex\n",
        "    x_out = torch.view_as_real(x_rotated)\n",
        "    x_out = x_out.reshape(*x.shape)\n",
        "    return x_out.type_as(x)"
      ],
      "metadata": {
        "id": "dgPRD2npF_Ha"
      },
      "execution_count": null,
      "outputs": []
    },
    {
      "cell_type": "code",
      "source": [
        "def apply_vanilla_rotary_embeddings(x: torch.Tensor, freqs_complex: torch.Tensor):\n",
        "    x_complex = torch.view_as_complex(x.float().reshape(*x.shape[:-1], -1, 2))\n",
        "    freqs_complex = freqs_complex.unsqueeze(0).unsqueeze(2) # requires change\n",
        "    x_rotated = x_complex * freqs_complex\n",
        "    x_out = torch.view_as_real(x_rotated)\n",
        "    x_out = x_out.reshape(*x.shape)\n",
        "    return x_out.type_as(x)"
      ],
      "metadata": {
        "id": "EIrs723D623y"
      },
      "execution_count": null,
      "outputs": []
    },
    {
      "cell_type": "markdown",
      "source": [
        "Fix the Input"
      ],
      "metadata": {
        "id": "9OoTCGhDGWRa"
      }
    },
    {
      "cell_type": "code",
      "source": [
        "xq = torch.rand(config['batch_size'], config['context_window'], config['n_heads'], config['d_model']// config['n_heads'])\n",
        "xq_lora = xq.unsqueeze(1)\n",
        "xq_lora = torch.concatenate([xq_lora, xq_lora, xq_lora], dim = 1)"
      ],
      "metadata": {
        "id": "pH0xNv6M7QnG"
      },
      "execution_count": null,
      "outputs": []
    },
    {
      "cell_type": "code",
      "source": [
        "expected_out = apply_vanilla_rotary_embeddings(xq, freqs_complex)\n",
        "expected_out = expected_out.unsqueeze(1)\n",
        "expected_out = torch.concatenate([expected_out, expected_out, expected_out], dim = 1)\n",
        "output =  apply_rotary_embeddings(xq_lora, freqs_complex)"
      ],
      "metadata": {
        "id": "duKWYxSM9GjL"
      },
      "execution_count": null,
      "outputs": []
    },
    {
      "cell_type": "code",
      "source": [
        "print(torch.all(torch.round(expected_out, decimals = 8) == torch.round(output, decimals = 8)))"
      ],
      "metadata": {
        "colab": {
          "base_uri": "https://localhost:8080/"
        },
        "id": "fisJu-Qo4LcU",
        "outputId": "f08ed4c9-d30a-4f0a-d7a6-b27d34bef87f"
      },
      "execution_count": null,
      "outputs": [
        {
          "output_type": "stream",
          "name": "stdout",
          "text": [
            "tensor(True)\n"
          ]
        }
      ]
    },
    {
      "cell_type": "markdown",
      "source": [
        "Cache Mechanism"
      ],
      "metadata": {
        "id": "-OgFe9oCIQUm"
      }
    },
    {
      "cell_type": "code",
      "source": [
        "def repeat_kv(x: torch.Tensor, n_rep: int) -> torch.Tensor:\n",
        "    batch_size, ensembles, seq_len, n_kv_heads, head_dim = x.shape\n",
        "    if n_rep == 1:\n",
        "        return x\n",
        "    return (\n",
        "        x[:, :, :, :, None, :].expand(batch_size, ensembles, seq_len, n_kv_heads, n_rep, head_dim).reshape(batch_size, ensembles, seq_len, n_kv_heads * n_rep, head_dim)\n",
        "    )"
      ],
      "metadata": {
        "id": "smdx4dQf4qwt"
      },
      "execution_count": null,
      "outputs": []
    },
    {
      "cell_type": "code",
      "source": [
        "def repeat_vanilla_kv(x: torch.Tensor, n_rep: int) -> torch.Tensor:\n",
        "    batch_size, seq_len, n_kv_heads, head_dim = x.shape # requires change\n",
        "    if n_rep == 1:\n",
        "        return x\n",
        "    return (\n",
        "        x[:, :, :, :, None, :].expand(batch_size, seq_len, n_kv_heads, n_rep, head_dim).reshape(batch_size, seq_len, n_kv_heads * n_rep, head_dim)\n",
        "    ) # require change"
      ],
      "metadata": {
        "id": "BNoZKoykLMAu"
      },
      "execution_count": null,
      "outputs": []
    },
    {
      "cell_type": "markdown",
      "source": [
        "Self Attention Head"
      ],
      "metadata": {
        "id": "776G2OSqIPDx"
      }
    },
    {
      "cell_type": "code",
      "source": [
        "class SelfAttention_NoLoRA(nn.Module):\n",
        "    def __init__(self, config):\n",
        "        super().__init__()\n",
        "\n",
        "        self.n_kv_heads = config['n_heads']\n",
        "        self.n_heads_q = config['n_heads']\n",
        "        self.n_rep = self.n_heads_q // self.n_kv_heads\n",
        "        self.head_dim = config['d_model'] // config['n_heads']\n",
        "\n",
        "        self.wq = nn.Linear(config['d_model'], config['n_heads'] * self.head_dim, bias=False) #requires change\n",
        "        self.wk = nn.Linear(config['d_model'], self.n_kv_heads * self.head_dim, bias=False) #requires change\n",
        "        self.wv = nn.Linear(config['d_model'], self.n_kv_heads * self.head_dim, bias=False) #requires change\n",
        "        self.wo = nn.Linear(config['n_heads'] * self.head_dim, config['d_model'], bias=False) #requires change\n",
        "\n",
        "        self.cache_k = torch.zeros((config['batch_size'], config['context_window'], self.n_kv_heads, self.head_dim)) #requires change\n",
        "        self.cache_v = torch.zeros((config['batch_size'], config['context_window'], self.n_kv_heads, self.head_dim)) #requires change\n",
        "\n",
        "    def forward(\n",
        "        self,\n",
        "        x: torch.Tensor,\n",
        "        start_pos: int,\n",
        "        freqs_complex: torch.Tensor\n",
        "    ):\n",
        "        batch_size, seq_len, _ = x.shape  #requires change\n",
        "\n",
        "        xq = self.wq(x)\n",
        "        xk = self.wk(x)\n",
        "        xv = self.wv(x)\n",
        "\n",
        "        xq = xq.view(batch_size, seq_len, self.n_heads_q, self.head_dim) #requires change\n",
        "        xk = xk.view(batch_size, seq_len, self.n_kv_heads, self.head_dim) #requires change\n",
        "        xv = xv.view(batch_size, seq_len, self.n_kv_heads, self.head_dim) #requires change\n",
        "        xq = apply_vanilla_rotary_embeddings(xq, freqs_complex)\n",
        "        xk = apply_vanilla_rotary_embeddings(xk, freqs_complex)\n",
        "        self.cache_k[:batch_size, start_pos : start_pos + seq_len] = xk #requires change\n",
        "        self.cache_v[:batch_size, start_pos : start_pos + seq_len] = xv #requires change\n",
        "\n",
        "        keys = self.cache_k[:batch_size, : start_pos + seq_len] #requires change\n",
        "        values = self.cache_v[:batch_size, : start_pos + seq_len] #requires change\n",
        "\n",
        "        keys = repeat_vanilla_kv(keys, self.n_rep)\n",
        "        values = repeat_vanilla_kv(values, self.n_rep)\n",
        "\n",
        "        xq = xq.transpose(1, 2) #requires change\n",
        "        keys = keys.transpose(1, 2) #requires change\n",
        "        values = values.transpose(1, 2) #requires change\n",
        "        scores = torch.matmul(xq, keys.transpose(2, 3)) / np.sqrt(self.head_dim) #requires change\n",
        "        scores = F.softmax(scores.float(), dim=-1).type_as(xq)\n",
        "\n",
        "        output = torch.matmul(scores, values)\n",
        "        output = (output.transpose(1, 2).contiguous().view(batch_size, seq_len, -1)) #requires change\n",
        "        return self.wo(output)\n",
        "\n",
        "\n",
        "layer = SelfAttention_NoLoRA(config)"
      ],
      "metadata": {
        "id": "rcMSclrI5Y9J"
      },
      "execution_count": null,
      "outputs": []
    },
    {
      "cell_type": "code",
      "source": [
        "class SelfAttention(nn.Module):\n",
        "    def __init__(self, config):\n",
        "        super().__init__()\n",
        "\n",
        "        self.n_kv_heads = config['n_heads']\n",
        "        self.n_heads_q = config['n_heads']\n",
        "        self.n_rep = self.n_heads_q // self.n_kv_heads\n",
        "        self.head_dim = config['d_model'] // config['n_heads']\n",
        "        self.ensembles = config['ensembles']\n",
        "\n",
        "        self.wq = Linear(config['d_model'], config['n_heads'] * self.head_dim, bias=False)\n",
        "        self.wk = Linear(config['d_model'], self.n_kv_heads * self.head_dim, bias=False)\n",
        "        self.wv = Linear(config['d_model'], self.n_kv_heads * self.head_dim, bias=False)\n",
        "        self.wo = Linear(config['n_heads'] * self.head_dim, config['d_model'], bias=False)\n",
        "\n",
        "        self.cache_k = torch.zeros((config['batch_size'], self.ensembles, config['context_window'], self.n_kv_heads, self.head_dim))\n",
        "        self.cache_v = torch.zeros((config['batch_size'], self.ensembles, config['context_window'], self.n_kv_heads, self.head_dim))\n",
        "\n",
        "    def forward(\n",
        "        self,\n",
        "        x: torch.Tensor,\n",
        "        start_pos: int,\n",
        "        freqs_complex: torch.Tensor\n",
        "    ):\n",
        "        batch_size, ensembles, seq_len, _ = x.shape\n",
        "\n",
        "        xq = self.wq(x)\n",
        "        xk = self.wk(x)\n",
        "        xv = self.wv(x)\n",
        "\n",
        "        xq = xq.view(batch_size, self.ensembles, seq_len, self.n_heads_q, self.head_dim)\n",
        "        xk = xk.view(batch_size, self.ensembles, seq_len, self.n_kv_heads, self.head_dim)\n",
        "        xv = xv.view(batch_size, self.ensembles, seq_len, self.n_kv_heads, self.head_dim)\n",
        "        xq = apply_rotary_embeddings(xq, freqs_complex)\n",
        "        xk = apply_rotary_embeddings(xk, freqs_complex)\n",
        "        self.cache_k[:batch_size, : self.ensembles, start_pos : start_pos + seq_len] = xk\n",
        "        self.cache_v[:batch_size, : self.ensembles, start_pos : start_pos + seq_len] = xv\n",
        "\n",
        "        keys = self.cache_k[:batch_size, : self.ensembles, : start_pos + seq_len]\n",
        "        values = self.cache_v[:batch_size, : self.ensembles, : start_pos + seq_len]\n",
        "\n",
        "        keys = repeat_kv(keys, self.n_rep)\n",
        "        values = repeat_kv(values, self.n_rep)\n",
        "\n",
        "        xq = xq.transpose(2, 3)\n",
        "        keys = keys.transpose(2, 3)\n",
        "        values = values.transpose(2, 3)\n",
        "        scores = torch.matmul(xq, keys.transpose(3, 4)) / np.sqrt(self.head_dim)\n",
        "        scores = F.softmax(scores.float(), dim=-1).type_as(xq)\n",
        "\n",
        "        output = torch.matmul(scores, values)\n",
        "        output = (output.transpose(2, 3).contiguous().view(batch_size, self.ensembles, seq_len, -1))\n",
        "        return self.wo(output)\n",
        "\n",
        "\n",
        "layer_lora = SelfAttention(config)"
      ],
      "metadata": {
        "id": "PqbVfEFaPG8n"
      },
      "execution_count": null,
      "outputs": []
    },
    {
      "cell_type": "code",
      "source": [
        "for key in layer_lora.state_dict():\n",
        "  if \"lora\" not in key:\n",
        "    layer_lora.state_dict()[key].copy_(layer.state_dict()[key])"
      ],
      "metadata": {
        "id": "YFmbzDbkTmnu"
      },
      "execution_count": null,
      "outputs": []
    },
    {
      "cell_type": "code",
      "source": [
        "batch = torch.rand(config['batch_size'], config['context_window'], config['d_model'])"
      ],
      "metadata": {
        "id": "57X0JnN25lC9"
      },
      "execution_count": null,
      "outputs": []
    },
    {
      "cell_type": "code",
      "source": [
        "expected_output = layer(batch, 0, freqs_complex)\n",
        "expected_out = expected_output.unsqueeze(1)\n",
        "expected_out = torch.concatenate([expected_out, expected_out, expected_out], dim = 1)\n",
        "\n",
        "output_lora = layer_lora(batch.unsqueeze(1), 0, freqs_complex)\n",
        "print(torch.all(torch.round(expected_out, decimals = 2) == torch.round(output_lora, decimals = 2)))"
      ],
      "metadata": {
        "colab": {
          "base_uri": "https://localhost:8080/"
        },
        "id": "a682RQrA-Doy",
        "outputId": "bf2ef8d0-6463-4498-ed73-bb078bc14c40"
      },
      "execution_count": null,
      "outputs": [
        {
          "output_type": "stream",
          "name": "stdout",
          "text": [
            "tensor(True)\n"
          ]
        }
      ]
    },
    {
      "cell_type": "markdown",
      "source": [
        "Feed Forward Block"
      ],
      "metadata": {
        "id": "wC1VsePPhGG9"
      }
    },
    {
      "cell_type": "code",
      "source": [
        "class FeedForward(nn.Module):\n",
        "    def __init__(self, config):\n",
        "        super().__init__()\n",
        "\n",
        "        hidden_dim = 4 * config[\"d_model\"]\n",
        "        hidden_dim = int(2 * hidden_dim / 3)\n",
        "        #if args.ffn_dim_multiplier is not None:\n",
        "            #hidden_dim = int(args.ffn_dim_multiplier * hidden_dim)\n",
        "        # Round the hidden_dim to the nearest multiple of the multiple_of parameter\n",
        "        hidden_dim = config[\"multiple_of\"] * ((hidden_dim + config[\"multiple_of\"] - 1) // config[\"multiple_of\"])\n",
        "\n",
        "        self.w1 = Linear(config[\"d_model\"], hidden_dim, bias=False)\n",
        "        self.w2 = Linear(hidden_dim, config[\"d_model\"], bias=False)\n",
        "        self.w3 = Linear(config[\"d_model\"], hidden_dim, bias=False)\n",
        "\n",
        "    def forward(self, x: torch.Tensor):\n",
        "        swish = F.silu(self.w1(x))\n",
        "        x_V = self.w3(x)\n",
        "        x = swish * x_V\n",
        "        x = self.w2(x)\n",
        "        return x\n",
        "\n",
        "layer_lora = FeedForward(config)"
      ],
      "metadata": {
        "id": "UJbFiVUh-m8x"
      },
      "execution_count": null,
      "outputs": []
    },
    {
      "cell_type": "code",
      "source": [
        "class FeedForward_NoLoRA(nn.Module):\n",
        "    def __init__(self, config):\n",
        "        super().__init__()\n",
        "\n",
        "        hidden_dim = 4 * config[\"d_model\"]\n",
        "        hidden_dim = int(2 * hidden_dim / 3)\n",
        "        #if args.ffn_dim_multiplier is not None:\n",
        "            #hidden_dim = int(args.ffn_dim_multiplier * hidden_dim)\n",
        "        # Round the hidden_dim to the nearest multiple of the multiple_of parameter\n",
        "        hidden_dim = config[\"multiple_of\"] * ((hidden_dim + config[\"multiple_of\"] - 1) // config[\"multiple_of\"])\n",
        "\n",
        "        self.w1 = nn.Linear(config[\"d_model\"], hidden_dim, bias=False)\n",
        "        self.w2 = nn.Linear(hidden_dim, config[\"d_model\"], bias=False)\n",
        "        self.w3 = nn.Linear(config[\"d_model\"], hidden_dim, bias=False)\n",
        "\n",
        "    def forward(self, x: torch.Tensor):\n",
        "        swish = F.silu(self.w1(x))\n",
        "        x_V = self.w3(x)\n",
        "        x = swish * x_V\n",
        "        x = self.w2(x)\n",
        "        return x\n",
        "\n",
        "layer = FeedForward_NoLoRA(config)"
      ],
      "metadata": {
        "id": "AaWNdlhwBSWj"
      },
      "execution_count": null,
      "outputs": []
    },
    {
      "cell_type": "code",
      "source": [
        "for key in layer_lora.state_dict():\n",
        "  if \"lora\" not in key:\n",
        "    layer_lora.state_dict()[key].copy_(layer.state_dict()[key])"
      ],
      "metadata": {
        "id": "Kf4BYjUbcB4R"
      },
      "execution_count": null,
      "outputs": []
    },
    {
      "cell_type": "code",
      "source": [
        "batch = torch.rand(config['batch_size'], config['context_window'], config['d_model'])"
      ],
      "metadata": {
        "id": "OksmqGcZdQU0"
      },
      "execution_count": null,
      "outputs": []
    },
    {
      "cell_type": "code",
      "source": [
        "expected_output = layer(batch)\n",
        "expected_out = expected_output.unsqueeze(1)\n",
        "expected_out = torch.concatenate([expected_out, expected_out, expected_out], dim = 1)\n",
        "\n",
        "output_lora = layer_lora(batch.unsqueeze(1))\n",
        "print(torch.all(torch.round(expected_out, decimals = 6) == torch.round(output_lora, decimals = 6)))"
      ],
      "metadata": {
        "colab": {
          "base_uri": "https://localhost:8080/"
        },
        "id": "o2jsg_3uf1Tb",
        "outputId": "5584c54f-2c8a-4742-f0b1-32eef6b10e64"
      },
      "execution_count": null,
      "outputs": [
        {
          "output_type": "stream",
          "name": "stdout",
          "text": [
            "tensor(False)\n"
          ]
        }
      ]
    },
    {
      "cell_type": "markdown",
      "source": [
        "Encoder Block"
      ],
      "metadata": {
        "id": "Ik9okoq0COYF"
      }
    },
    {
      "cell_type": "code",
      "source": [
        "class EncoderBlock(nn.Module):\n",
        "\n",
        "    def __init__(self, config):\n",
        "        super().__init__()\n",
        "\n",
        "        self.n_heads = config[\"n_heads\"]\n",
        "        self.dim = config[\"d_model\"]\n",
        "        self.head_dim = config[\"d_model\"] // config[\"n_heads\"]\n",
        "\n",
        "        self.attention = SelfAttention(config)\n",
        "        self.feed_forward = FeedForward(config)\n",
        "\n",
        "        self.attention_norm = RMSNorm(config[\"d_model\"])\n",
        "        self.ffn_norm = RMSNorm(config[\"d_model\"])\n",
        "\n",
        "    def forward(self, x: torch.Tensor, start_pos: int, freqs_complex: torch.Tensor):\n",
        "        h = x + self.attention.forward(\n",
        "            self.attention_norm(x), start_pos, freqs_complex\n",
        "        )\n",
        "        out = h + self.feed_forward.forward(self.ffn_norm(h))\n",
        "        return out\n",
        "\n",
        "block_lora = EncoderBlock(config)"
      ],
      "metadata": {
        "id": "_VgLYpu4B9DV"
      },
      "execution_count": null,
      "outputs": []
    },
    {
      "cell_type": "code",
      "source": [
        "class EncoderBlock_NoLoRA(nn.Module):\n",
        "\n",
        "    def __init__(self, config):\n",
        "        super().__init__()\n",
        "\n",
        "        self.n_heads = config[\"n_heads\"]\n",
        "        self.dim = config[\"d_model\"]\n",
        "        self.head_dim = config[\"d_model\"] // config[\"n_heads\"]\n",
        "\n",
        "        self.attention = SelfAttention_NoLoRA(config)\n",
        "        self.feed_forward = FeedForward_NoLoRA(config)\n",
        "\n",
        "        self.attention_norm = RMSNorm(config[\"d_model\"])\n",
        "        self.ffn_norm = RMSNorm(config[\"d_model\"])\n",
        "\n",
        "    def forward(self, x: torch.Tensor, start_pos: int, freqs_complex: torch.Tensor):\n",
        "        h = x + self.attention.forward(\n",
        "            self.attention_norm(x), start_pos, freqs_complex\n",
        "        )\n",
        "        out = h + self.feed_forward.forward(self.ffn_norm(h))\n",
        "        return out\n",
        "\n",
        "block = EncoderBlock_NoLoRA(config)"
      ],
      "metadata": {
        "id": "DflIYiIpGCLK"
      },
      "execution_count": null,
      "outputs": []
    },
    {
      "cell_type": "code",
      "source": [
        "for key in block_lora.state_dict():\n",
        "  if \"lora\" not in key:\n",
        "    block_lora.state_dict()[key].copy_(block.state_dict()[key])"
      ],
      "metadata": {
        "id": "OkDN5ad-GLE5"
      },
      "execution_count": null,
      "outputs": []
    },
    {
      "cell_type": "code",
      "source": [
        "batch = torch.rand(config['batch_size'], config['context_window'], config['d_model'])"
      ],
      "metadata": {
        "id": "FSvIw3MRNrJC"
      },
      "execution_count": null,
      "outputs": []
    },
    {
      "cell_type": "code",
      "source": [
        "expected_output = block(batch, 0, freqs_complex)\n",
        "expected_out = expected_output.unsqueeze(1)\n",
        "expected_out = torch.concatenate([expected_out, expected_out, expected_out], dim = 1)\n",
        "\n",
        "output_lora = block_lora(batch.unsqueeze(1), 0, freqs_complex)\n",
        "print(torch.all(torch.round(expected_out, decimals = 5) == torch.round(output_lora, decimals = 5)))"
      ],
      "metadata": {
        "colab": {
          "base_uri": "https://localhost:8080/"
        },
        "id": "44iT_TH2OSzs",
        "outputId": "342b5aff-6143-42a4-d282-20b7c0be66c2"
      },
      "execution_count": null,
      "outputs": [
        {
          "output_type": "stream",
          "name": "stdout",
          "text": [
            "tensor(True)\n"
          ]
        }
      ]
    },
    {
      "cell_type": "markdown",
      "source": [
        "Transformer Model"
      ],
      "metadata": {
        "id": "pt8ooa0BOmVl"
      }
    },
    {
      "cell_type": "code",
      "source": [
        "class Transformer(nn.Module):\n",
        "\n",
        "    def __init__(self, config):\n",
        "        super().__init__()\n",
        "        self.vocab_size = config['vocab_size']\n",
        "        self.n_layers = config['n_layers']\n",
        "        self.tok_embeddings = nn.Embedding(config['vocab_size'], config['d_model'])\n",
        "\n",
        "        self.layers = nn.ModuleList()\n",
        "        for layer_id in range(config['n_layers']):\n",
        "            self.layers.append(EncoderBlock(config))\n",
        "\n",
        "        self.norm = RMSNorm(config['d_model'])\n",
        "        self.output = Linear(config['d_model'], config['vocab_size'], bias=False)\n",
        "\n",
        "        self.freqs_complex = precompute_theta_pos_frequencies(config['d_model'] // config['n_heads'], config['context_window'] * 2)\n",
        "\n",
        "    def forward(self, tokens: torch.Tensor, start_pos: int):\n",
        "        batch_size, _, seq_len = tokens.shape\n",
        "        h = self.tok_embeddings(tokens)\n",
        "        freqs_complex = self.freqs_complex[start_pos:start_pos + seq_len]\n",
        "\n",
        "        for layer in self.layers:\n",
        "            h = layer(h, start_pos, freqs_complex)\n",
        "        h = self.norm(h)\n",
        "        output = self.output(h)\n",
        "        return output\n",
        "\n",
        "model_lora = Transformer(config)"
      ],
      "metadata": {
        "id": "oPfV2bMKOdxy"
      },
      "execution_count": null,
      "outputs": []
    },
    {
      "cell_type": "code",
      "source": [
        "class Transformer_NoLoRA(nn.Module):\n",
        "\n",
        "    def __init__(self, config):\n",
        "        super().__init__()\n",
        "        self.vocab_size = config['vocab_size']\n",
        "        self.n_layers = config['n_layers']\n",
        "        self.tok_embeddings = nn.Embedding(config['vocab_size'], config['d_model'])\n",
        "\n",
        "        self.layers = nn.ModuleList()\n",
        "        for layer_id in range(config['n_layers']):\n",
        "            self.layers.append(EncoderBlock_NoLoRA(config))\n",
        "\n",
        "        self.norm = RMSNorm(config['d_model'])\n",
        "        self.output = nn.Linear(config['d_model'], config['vocab_size'], bias=False)\n",
        "\n",
        "        self.freqs_complex = precompute_theta_pos_frequencies(config['d_model'] // config['n_heads'], config['context_window'] * 2)\n",
        "\n",
        "    def forward(self, tokens: torch.Tensor, start_pos: int):\n",
        "        batch_size, seq_len = tokens.shape\n",
        "        h = self.tok_embeddings(tokens)\n",
        "        freqs_complex = self.freqs_complex[start_pos:start_pos + seq_len]\n",
        "\n",
        "        for layer in self.layers:\n",
        "            h = layer(h, start_pos, freqs_complex)\n",
        "        h = self.norm(h)\n",
        "        output = self.output(h)\n",
        "        return output\n",
        "\n",
        "model = Transformer_NoLoRA(config)"
      ],
      "metadata": {
        "id": "WnKbAXj7TEBx"
      },
      "execution_count": null,
      "outputs": []
    },
    {
      "cell_type": "code",
      "source": [
        "for key in model_lora.state_dict():\n",
        "  if \"lora\" not in key:\n",
        "    model_lora.state_dict()[key].copy_(model.state_dict()[key])"
      ],
      "metadata": {
        "id": "T22uVRdRTQQi"
      },
      "execution_count": null,
      "outputs": []
    },
    {
      "cell_type": "code",
      "source": [
        "batch = torch.randint(0,65, (config['batch_size'], config['context_window']))"
      ],
      "metadata": {
        "id": "mcQYRn7_ZEZZ"
      },
      "execution_count": null,
      "outputs": []
    },
    {
      "cell_type": "code",
      "source": [
        "expected_output = model(batch, 0)\n",
        "expected_out = expected_output.unsqueeze(1)\n",
        "expected_out = torch.concatenate([expected_out, expected_out, expected_out], dim = 1)\n",
        "\n",
        "output_lora = model_lora(batch.unsqueeze(1), 0)\n"
      ],
      "metadata": {
        "id": "kBa7TrOJZQDX"
      },
      "execution_count": null,
      "outputs": []
    },
    {
      "cell_type": "code",
      "source": [
        "output_lora.numel()"
      ],
      "metadata": {
        "colab": {
          "base_uri": "https://localhost:8080/"
        },
        "id": "RhzdhHbsZYcX",
        "outputId": "c341d75f-ab53-4502-fdc8-a31992928d6f"
      },
      "execution_count": null,
      "outputs": [
        {
          "output_type": "execute_result",
          "data": {
            "text/plain": [
              "6240"
            ]
          },
          "metadata": {},
          "execution_count": 40
        }
      ]
    },
    {
      "cell_type": "code",
      "source": [
        "count = 0\n",
        "for i in range(output_lora.shape[0]):\n",
        "  for j in range(output_lora.shape[1]):\n",
        "    for k in range(output_lora.shape[2]):\n",
        "      for l in range(output_lora.shape[3]):\n",
        "        if torch.round(expected_out[i,j,k,l], decimals=4) != torch.round(output_lora[i,j,k,l], decimals = 4):\n",
        "          count +=1"
      ],
      "metadata": {
        "id": "m4bxGi4zaNyH"
      },
      "execution_count": null,
      "outputs": []
    },
    {
      "cell_type": "code",
      "source": [
        "count"
      ],
      "metadata": {
        "colab": {
          "base_uri": "https://localhost:8080/"
        },
        "id": "-xJjjqQiaSWx",
        "outputId": "dd3dd76d-e16a-4aa8-c5d9-0149dc5b5ffd"
      },
      "execution_count": null,
      "outputs": [
        {
          "output_type": "execute_result",
          "data": {
            "text/plain": [
              "12"
            ]
          },
          "metadata": {},
          "execution_count": 48
        }
      ]
    },
    {
      "cell_type": "code",
      "source": [],
      "metadata": {
        "id": "X_m6uQpHhAig"
      },
      "execution_count": null,
      "outputs": []
    }
  ]
}
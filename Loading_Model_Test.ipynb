{
  "cells": [
    {
      "cell_type": "markdown",
      "metadata": {
        "id": "view-in-github",
        "colab_type": "text"
      },
      "source": [
        "<a href=\"https://colab.research.google.com/github/Debangshu93/LLama-Ensemble/blob/main/Loading_Model_Test.ipynb\" target=\"_parent\"><img src=\"https://colab.research.google.com/assets/colab-badge.svg\" alt=\"Open In Colab\"/></a>"
      ]
    },
    {
      "cell_type": "code",
      "execution_count": null,
      "metadata": {
        "id": "iUNb_e__Izrx"
      },
      "outputs": [],
      "source": [
        "import torch\n",
        "from torch import nn\n",
        "from torch.nn import functional as F\n",
        "import numpy as np\n",
        "import math"
      ]
    },
    {
      "cell_type": "markdown",
      "source": [
        "Helper Functions"
      ],
      "metadata": {
        "id": "0Eat9OXcRYop"
      }
    },
    {
      "cell_type": "code",
      "source": [
        "config = {\n",
        "    \"vocab_size\": 32000,\n",
        "    'batch_size': 2,\n",
        "    'context_window': 1024,\n",
        "    'd_model': 4096,\n",
        "    'n_heads' : 32,\n",
        "    'ensembles' : 3,\n",
        "    'multiple_of' : 256,\n",
        "    'n_layers' : 32,\n",
        "    'device' : 'cuda'\n",
        "}\n",
        "\n",
        "def precompute_theta_pos_frequencies(head_dim: int, seq_len: int, device: str, theta: float = 10000.0):\n",
        "    assert head_dim % 2 == 0, \"Dimension must be divisible by 2\"\n",
        "    theta_numerator = torch.arange(0, head_dim, 2).float()\n",
        "    theta = 1.0 / (theta ** (theta_numerator / head_dim)).to(device) # (Dim / 2)\n",
        "    m = torch.arange(seq_len, device=device)\n",
        "    freqs = torch.outer(m, theta).float()\n",
        "    freqs_complex = torch.polar(torch.ones_like(freqs), freqs)\n",
        "    return freqs_complex\n",
        "\n",
        "def apply_rotary_embeddings(x: torch.Tensor, freqs_complex: torch.Tensor, device: str):\n",
        "    x_complex = torch.view_as_complex(x.float().reshape(*x.shape[:-1], -1, 2))\n",
        "    freqs_complex = freqs_complex.unsqueeze(0).unsqueeze(1).unsqueeze(3)\n",
        "    x_rotated = x_complex * freqs_complex\n",
        "    x_out = torch.view_as_real(x_rotated)\n",
        "    x_out = x_out.reshape(*x.shape)\n",
        "    return x_out.type_as(x).to(device)\n",
        "\n",
        "def repeat_kv(x: torch.Tensor, n_rep: int) -> torch.Tensor:\n",
        "    batch_size, ensembles, seq_len, n_kv_heads, head_dim = x.shape\n",
        "    if n_rep == 1:\n",
        "        return x\n",
        "    return (\n",
        "        x[:, :, :, :, None, :].expand(batch_size, ensembles, seq_len, n_kv_heads, n_rep, head_dim).reshape(batch_size, ensembles, seq_len, n_kv_heads * n_rep, head_dim)\n",
        "    )"
      ],
      "metadata": {
        "id": "Ox4vpUpHP_a_"
      },
      "execution_count": null,
      "outputs": []
    },
    {
      "cell_type": "markdown",
      "source": [
        "LoRA Llama-2"
      ],
      "metadata": {
        "id": "oPdkOMCQYWKB"
      }
    },
    {
      "cell_type": "code",
      "execution_count": null,
      "metadata": {
        "id": "18Y4pacrI6BC"
      },
      "outputs": [],
      "source": [
        "class LoraLayer(nn.Module):\n",
        "  def __init__(self, features_in, features_out, name = \"None\", rank = 1, alpha = 1):\n",
        "    super().__init__()\n",
        "\n",
        "    self.lora_A = nn.Parameter(torch.zeros((rank, features_out)))\n",
        "    self.lora_B = nn.Parameter(torch.zeros((features_in, rank)))\n",
        "    nn.init.normal_(self.lora_A, mean = 0, std = 1)\n",
        "    self.name = name\n",
        "\n",
        "    self.scale = alpha/rank\n",
        "    self.enabled = True\n",
        "\n",
        "  def forward(self, original_weights):\n",
        "    if self.enabled:\n",
        "      return (original_weights + torch.matmul(self.lora_B, self.lora_A).view(original_weights.shape)*self.scale)\n",
        "    else:\n",
        "      return original_weights\n",
        "\n",
        "class Ensemble(nn.Module):\n",
        "  def __init__(self, features_in, features_out, num_ensebles=2):\n",
        "    super().__init__()\n",
        "\n",
        "    self.adapter_1 = LoraLayer(features_in, features_out, \"adapter_1\")\n",
        "    self.adapter_2 = LoraLayer(features_in, features_out, \"adapter_2\")\n",
        "    self.adapter_3 = LoraLayer(features_in, features_out, \"adapter_3\")\n",
        "\n",
        "  def forward(self, original_weights):\n",
        "    adapter_1_out = self.adapter_1(original_weights).unsqueeze(2)\n",
        "    adapter_2_out = self.adapter_2(original_weights).unsqueeze(2)\n",
        "    adapter_3_out = self.adapter_3(original_weights).unsqueeze(2)\n",
        "    return torch.concatenate([adapter_1_out, adapter_2_out, adapter_3_out], dim = 2) #a three dimensional tensor\n",
        "\n",
        "\n",
        "class Linear(nn.Module):\n",
        "  def __init__(self, features_in, features_out, bias = True):\n",
        "    super().__init__()\n",
        "\n",
        "    self.weight = nn.Parameter(torch.zeros((features_out, features_in) , device = 'meta'))\n",
        "    self.is_bias = bias\n",
        "    if self.is_bias :\n",
        "      self.bias = nn.Parameter(torch.zeros(features_out, device = 'meta'))\n",
        "      nn.init.normal_(self.bias, mean = 0, std = 1)\n",
        "    nn.init.normal_(self.weight, mean = 0, std = 1)\n",
        "    self.adapters =  Ensemble(features_in, features_out)\n",
        "\n",
        "  def forward(self, x): #input is a 4d tensor [batch, 1, feat_in, feat_out]\n",
        "    self.parallel_weights = self.adapters(self.weight)\n",
        "    if self.is_bias :\n",
        "      return torch.matmul(x, self.parallel_weights.transpose(0,2)) + self.bias\n",
        "    else:\n",
        "      return torch.matmul(x, self.parallel_weights.transpose(0,2))  #output is a 4d tensor [batch, d, feat_in, out_dim]\n",
        "\n",
        "\n",
        "class RMSNorm(nn.Module):\n",
        "    def __init__(self, dim: int, eps: float = 1e-6):\n",
        "        super().__init__()\n",
        "        self.eps = eps\n",
        "        self.weight = nn.Parameter(torch.ones(dim, device = 'meta'))\n",
        "\n",
        "    def _norm(self, x: torch.Tensor):\n",
        "        return x * torch.rsqrt(x.pow(2).mean(-1, keepdim=True) + self.eps)\n",
        "\n",
        "    def forward(self, x: torch.Tensor):\n",
        "        return self.weight * self._norm(x.float()).type_as(x)\n",
        "\n",
        "\n",
        "class SelfAttention(nn.Module):\n",
        "    def __init__(self, config):\n",
        "        super().__init__()\n",
        "\n",
        "\n",
        "        self.n_kv_heads = config['n_heads']\n",
        "        self.n_heads_q = config['n_heads']\n",
        "        self.n_rep = self.n_heads_q // self.n_kv_heads\n",
        "        self.head_dim = config['d_model'] // config['n_heads']\n",
        "        self.ensembles = config['ensembles']\n",
        "        self.device = config['device']\n",
        "\n",
        "        self.wq = Linear(config['d_model'], config['n_heads'] * self.head_dim, bias=False)\n",
        "        self.wk = Linear(config['d_model'], self.n_kv_heads * self.head_dim, bias=False)\n",
        "        self.wv = Linear(config['d_model'], self.n_kv_heads * self.head_dim, bias=False)\n",
        "        self.wo = Linear(config['n_heads'] * self.head_dim, config['d_model'], bias=False)\n",
        "\n",
        "        self.cache_k = torch.zeros((config['batch_size'], self.ensembles, config['context_window'], self.n_kv_heads, self.head_dim)).to(self.device)\n",
        "        self.cache_v = torch.zeros((config['batch_size'], self.ensembles, config['context_window'], self.n_kv_heads, self.head_dim)).to(self.device)\n",
        "\n",
        "    def forward(self, x: torch.Tensor, start_pos: int, freqs_complex: torch.Tensor):\n",
        "\n",
        "        batch_size, ensembles, seq_len, _ = x.shape\n",
        "\n",
        "        xq = self.wq(x)\n",
        "        xk = self.wk(x)\n",
        "        xv = self.wv(x)\n",
        "\n",
        "        xq = xq.view(batch_size, self.ensembles, seq_len, self.n_heads_q, self.head_dim)\n",
        "        xk = xk.view(batch_size, self.ensembles, seq_len, self.n_kv_heads, self.head_dim)\n",
        "        xv = xv.view(batch_size, self.ensembles, seq_len, self.n_kv_heads, self.head_dim)\n",
        "        xq = apply_rotary_embeddings(xq, freqs_complex, device = x.device)\n",
        "        xk = apply_rotary_embeddings(xk, freqs_complex, device = x.device)\n",
        "        self.cache_k[:batch_size, : self.ensembles, start_pos : start_pos + seq_len] = xk\n",
        "        self.cache_v[:batch_size, : self.ensembles, start_pos : start_pos + seq_len] = xv\n",
        "\n",
        "        keys = self.cache_k[:batch_size, : self.ensembles, : start_pos + seq_len]\n",
        "        values = self.cache_v[:batch_size, : self.ensembles, : start_pos + seq_len]\n",
        "\n",
        "        keys = repeat_kv(keys, self.n_rep)\n",
        "        values = repeat_kv(values, self.n_rep)\n",
        "\n",
        "        xq = xq.transpose(2, 3)\n",
        "        keys = keys.transpose(2, 3)\n",
        "        values = values.transpose(2, 3)\n",
        "        scores = torch.matmul(xq, keys.transpose(3, 4)) / np.sqrt(self.head_dim)\n",
        "        scores = F.softmax(scores.float(), dim=-1).type_as(xq)\n",
        "\n",
        "        output = torch.matmul(scores, values)\n",
        "        output = (output.transpose(2, 3).contiguous().view(batch_size, self.ensembles, seq_len, -1))\n",
        "        return self.wo(output)\n",
        "\n",
        "\n",
        "class FeedForward(nn.Module):\n",
        "    def __init__(self, config):\n",
        "        super().__init__()\n",
        "\n",
        "        hidden_dim = 4 * config[\"d_model\"]\n",
        "        hidden_dim = int(2 * hidden_dim / 3)\n",
        "        #if args.ffn_dim_multiplier is not None:\n",
        "            #hidden_dim = int(args.ffn_dim_multiplier * hidden_dim)\n",
        "        # Round the hidden_dim to the nearest multiple of the multiple_of parameter\n",
        "        hidden_dim = config[\"multiple_of\"] * ((hidden_dim + config[\"multiple_of\"] - 1) // config[\"multiple_of\"])\n",
        "\n",
        "        self.w1 = Linear(config[\"d_model\"], hidden_dim, bias=False)\n",
        "        self.w2 = Linear(hidden_dim, config[\"d_model\"], bias=False)\n",
        "        self.w3 = Linear(config[\"d_model\"], hidden_dim, bias=False)\n",
        "\n",
        "    def forward(self, x: torch.Tensor):\n",
        "        swish = F.silu(self.w1(x))\n",
        "        x_V = self.w3(x)\n",
        "        x = swish * x_V\n",
        "        x = self.w2(x)\n",
        "        return x\n",
        "\n",
        "class EncoderBlock(nn.Module):\n",
        "\n",
        "    def __init__(self, config):\n",
        "        super().__init__()\n",
        "\n",
        "        self.n_heads = config[\"n_heads\"]\n",
        "        self.dim = config[\"d_model\"]\n",
        "        self.head_dim = config[\"d_model\"] // config[\"n_heads\"]\n",
        "\n",
        "        self.attention = SelfAttention(config)\n",
        "        self.feed_forward = FeedForward(config)\n",
        "\n",
        "        self.attention_norm = RMSNorm(config[\"d_model\"])\n",
        "        self.ffn_norm = RMSNorm(config[\"d_model\"])\n",
        "\n",
        "    def forward(self, x: torch.Tensor, start_pos: int, freqs_complex: torch.Tensor):\n",
        "        h = x + self.attention.forward(\n",
        "            self.attention_norm(x), start_pos, freqs_complex\n",
        "        )\n",
        "        out = h + self.feed_forward.forward(self.ffn_norm(h))\n",
        "        return out\n",
        "\n",
        "\n",
        "class Transformer(nn.Module):\n",
        "\n",
        "    def __init__(self, config):\n",
        "        super().__init__()\n",
        "        self.vocab_size = config['vocab_size']\n",
        "        self.n_layers = config['n_layers']\n",
        "        self.tok_embeddings = nn.Embedding(config['vocab_size'], config['d_model'], device = 'meta')\n",
        "\n",
        "        self.layers = nn.ModuleList()\n",
        "        for layer_id in range(config['n_layers']):\n",
        "            self.layers.append(EncoderBlock(config))\n",
        "\n",
        "        self.norm = RMSNorm(config['d_model'])\n",
        "        self.output = Linear(config['d_model'], config['vocab_size'], bias=False)\n",
        "\n",
        "        self.freqs_complex = precompute_theta_pos_frequencies(config['d_model'] // config['n_heads'], config['context_window'] * 2, device = config['device'])\n",
        "\n",
        "    def forward(self, tokens: torch.Tensor, start_pos: int):\n",
        "        batch_size, _, seq_len = tokens.shape\n",
        "        h = self.tok_embeddings(tokens)\n",
        "        freqs_complex = self.freqs_complex[start_pos:start_pos + seq_len]\n",
        "\n",
        "        for layer in self.layers:\n",
        "            h = layer(h, start_pos, freqs_complex)\n",
        "        h = self.norm(h)\n",
        "        output = self.output(h)\n",
        "        return output\n"
      ]
    },
    {
      "cell_type": "markdown",
      "source": [
        "Load the weights in CPU (13 GB)"
      ],
      "metadata": {
        "id": "ld4hEA73QXoV"
      }
    },
    {
      "cell_type": "code",
      "source": [
        "from pathlib import Path\n",
        "checkpoints_dir= 'llama-2-7b'\n",
        "checkpoints = sorted(Path(checkpoints_dir).glob(\"*.pth\"))\n",
        "ckpt_path = checkpoints[0]\n",
        "checkpoint = torch.load(ckpt_path, map_location='cpu')"
      ],
      "metadata": {
        "id": "29VscCpzhOvs"
      },
      "execution_count": null,
      "outputs": []
    },
    {
      "cell_type": "markdown",
      "source": [
        "Initialize the Model (3 GB)"
      ],
      "metadata": {
        "id": "U4aEKo-1Qi2_"
      }
    },
    {
      "cell_type": "code",
      "source": [
        "torch.set_default_dtype(torch.bfloat16) #32 bits floating\n",
        "model = Transformer(config)"
      ],
      "metadata": {
        "id": "CwJ0UCm6ZLDR"
      },
      "execution_count": null,
      "outputs": []
    },
    {
      "cell_type": "markdown",
      "source": [
        "Load the Weights into the Model into the GPU (16GB)"
      ],
      "metadata": {
        "id": "jVD7NodaQ5RD"
      }
    },
    {
      "cell_type": "code",
      "source": [
        "model.load_state_dict(checkpoint, strict = False, assign = True)\n",
        "model = model.to('cuda')"
      ],
      "metadata": {
        "id": "wHII-eJZqd1j"
      },
      "execution_count": null,
      "outputs": []
    },
    {
      "cell_type": "markdown",
      "source": [
        "Run an Inference Model (64 GB)"
      ],
      "metadata": {
        "id": "LuLVD_-MRKA0"
      }
    },
    {
      "cell_type": "code",
      "execution_count": null,
      "metadata": {
        "id": "Xun_WdzTI_42"
      },
      "outputs": [],
      "source": [
        "batch = torch.randint(0,1000, (config['batch_size'], 1, 1)).to('cuda')\n",
        "with torch.no_grad():\n",
        "    model(batch, 0).shape"
      ]
    }
  ],
  "metadata": {
    "colab": {
      "provenance": [],
      "authorship_tag": "ABX9TyMXnrUq5BgqoxB6EKjELwBd",
      "include_colab_link": true
    },
    "kernelspec": {
      "display_name": "Python 3",
      "name": "python3"
    },
    "language_info": {
      "name": "python"
    }
  },
  "nbformat": 4,
  "nbformat_minor": 0
}